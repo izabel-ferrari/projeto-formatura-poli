{
 "cells": [
  {
   "cell_type": "code",
   "execution_count": null,
   "metadata": {},
   "outputs": [],
   "source": [
    "%%bash\n",
    "pwd"
   ]
  },
  {
   "cell_type": "markdown",
   "metadata": {},
   "source": [
    "<h1>Cria máscaras binárias</h1>"
   ]
  },
  {
   "cell_type": "code",
   "execution_count": null,
   "metadata": {},
   "outputs": [],
   "source": [
    "import numpy as np\n",
    "import scipy.misc\n",
    "\n",
    "for i in range(0,8):\n",
    "    for j in range(0,8):\n",
    "        ones_matrix = np.zeros((256,256), dtype=np.int8)\n",
    "        # print('>> ' + str(i) + ' ' + str(j)) \n",
    "        for i_in in range(i*32,(i+1)*32):\n",
    "            for j_in in range(j*32,(j+1)*32):\n",
    "                ones_matrix[i_in][j_in] = 1\n",
    "        output_name = str(i) + '_' + str(j) + '.png'\n",
    "        scipy.misc.imsave(output_name, ones_matrix)\n"
   ]
  },
  {
   "cell_type": "markdown",
   "metadata": {},
   "source": [
    "<h1>Executa o algoritmo</h1>"
   ]
  },
  {
   "cell_type": "code",
   "execution_count": null,
   "metadata": {},
   "outputs": [],
   "source": [
    "import time"
   ]
  },
  {
   "cell_type": "code",
   "execution_count": null,
   "metadata": {
    "scrolled": true
   },
   "outputs": [],
   "source": [
    "%%time\n",
    "%%bash \n",
    "for i in 0 1 2 3 4 5 6 7\n",
    "do\n",
    "    for j in 0 1 2 3 4 5 6 7\n",
    "    do\n",
    "        underscore=\"_\"\n",
    "        out=\"_output\"\n",
    "        curr_mask_name=\"$i$underscore$j\"\n",
    "        echo \"Mask name: $curr_mask_name\"\n",
    "        python test.py --image restoration/face.png --mask restoration/$curr_mask_name.png --output restoration/face.png --checkpoint_dir model_logs/release_celeba_256/\n",
    "    done\n",
    "done\n"
   ]
  },
  {
   "cell_type": "code",
   "execution_count": null,
   "metadata": {},
   "outputs": [],
   "source": []
  }
 ],
 "metadata": {
  "kernelspec": {
   "display_name": "Python 3",
   "language": "python",
   "name": "python3"
  },
  "language_info": {
   "codemirror_mode": {
    "name": "ipython",
    "version": 3
   },
   "file_extension": ".py",
   "mimetype": "text/x-python",
   "name": "python",
   "nbconvert_exporter": "python",
   "pygments_lexer": "ipython3",
   "version": "3.6.5"
  }
 },
 "nbformat": 4,
 "nbformat_minor": 2
}
