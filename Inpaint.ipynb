{
 "cells": [
  {
   "cell_type": "markdown",
   "metadata": {},
   "source": [
    "IMAGEM A SER RESTAURADA"
   ]
  },
  {
   "cell_type": "code",
   "execution_count": null,
   "metadata": {},
   "outputs": [],
   "source": [
    "# Imagem de entrada\n",
    "FULL_IMG_NAME = 'img_0.jpg'"
   ]
  },
  {
   "cell_type": "markdown",
   "metadata": {},
   "source": [
    "IMPORTS"
   ]
  },
  {
   "cell_type": "code",
   "execution_count": null,
   "metadata": {},
   "outputs": [],
   "source": [
    "import os\n",
    "import argparse\n",
    "\n",
    "import numpy as np\n",
    "from matplotlib import pyplot as plt\n",
    "import cv2\n",
    "\n",
    "import test\n",
    "import mask\n",
    "import roi\n",
    "import utils"
   ]
  },
  {
   "cell_type": "markdown",
   "metadata": {},
   "source": [
    "DEFINIÇÃO DE VARIÁVEIS E CAMINHOS"
   ]
  },
  {
   "cell_type": "code",
   "execution_count": null,
   "metadata": {},
   "outputs": [],
   "source": [
    "# Diretórios da imagem original, arquivos temp. e restauração final\n",
    "IMG_DIR_PATH = './images/'\n",
    "INTERM_DIR_PATH = './interm_files/'\n",
    "INPAINT_DIR_PATH = './inpaints/'\n",
    "\n",
    "# Verifica se existem os diretórios e cria os que não existem\n",
    "if not os.path.exists(INTERM_DIR_PATH):\n",
    "    os.mkdir(INTERM_DIR_PATH)\n",
    "if not os.path.exists(INPAINT_DIR_PATH):\n",
    "    os.mkdir(INPAINT_DIR_PATH)\n",
    "\n",
    "# Define os caminhos para as imagens\n",
    "IMG_EXTENSION = FULL_IMG_NAME[-4:]\n",
    "IMG_NAME = FULL_IMG_NAME[:-4]\n",
    "\n",
    "IMG_FILEPATH = IMG_DIR_PATH + FULL_IMG_NAME\n",
    "\n",
    "CROP_FILEPATH = INTERM_DIR_PATH + IMG_NAME + '_crop' + IMG_EXTENSION\n",
    "FACE_FILEPATH = INTERM_DIR_PATH + IMG_NAME + '_face' + IMG_EXTENSION\n",
    "\n",
    "MASK_FACE_FILEPATH = INTERM_DIR_PATH + IMG_NAME + '_face_mask' + IMG_EXTENSION\n",
    "MASK_IMG_FILEPATH = INTERM_DIR_PATH + IMG_NAME + '_img_mask' + IMG_EXTENSION\n",
    "\n",
    "INPAINT_FACE_FILEPATH = INTERM_DIR_PATH + IMG_NAME + '_face_inpaint' + IMG_EXTENSION\n",
    "INPAINT_FINAL_FILEPATH = INPAINT_DIR_PATH + IMG_NAME + '_inpaint' + IMG_EXTENSION\n",
    "\n",
    "CHECKPOINT_DIR_PATH = './model_logs/release_celeba_256/'"
   ]
  },
  {
   "cell_type": "markdown",
   "metadata": {},
   "source": [
    "VALIDAÇÃO DA IMAGEM DE ENTRADA"
   ]
  },
  {
   "cell_type": "code",
   "execution_count": null,
   "metadata": {},
   "outputs": [],
   "source": [
    "print('Validando a imagem de entrada...')\n",
    "try:\n",
    "    image = utils.validate_input_image(IMG_FILEPATH, IMG_EXTENSION)\n",
    "    utils.print_done()\n",
    "    plt.imshow(image)\n",
    "except:\n",
    "    raise"
   ]
  },
  {
   "cell_type": "markdown",
   "metadata": {},
   "source": [
    "IDENTIFICAÇÃO DO ROSTO"
   ]
  },
  {
   "cell_type": "code",
   "execution_count": null,
   "metadata": {},
   "outputs": [],
   "source": [
    "print('Identificando o rosto na imagem...')\n",
    "try:\n",
    "    # Identificação do rosto\n",
    "    x, y, w, h = roi.identify_face(image)[0]\n",
    "    \n",
    "except:\n",
    "    x = 0\n",
    "    y = 0\n",
    "    h, w, p = image.shape\n",
    "    \n",
    "    if w != h:\n",
    "        min_size = min(w,h)\n",
    "        if w == min_size:\n",
    "            y = int(y + (h-w)/2)\n",
    "            h = w\n",
    "        elif h == min_size:\n",
    "            x = int(x + (w-h)/2)\n",
    "            w = h\n",
    "\n",
    "image_copy = np.copy(image)\n",
    "cv2.rectangle(image_copy, (x,y), (x+w,y+h), (255,0,0), 10)\n",
    "plt.imshow(image_copy)\n",
    "\n",
    "# Corte do rosto\n",
    "image_cropped = image[y:y+h, x:x+w]\n",
    "#     cv2.imwrite(CROP_FILEPATH, cv2.cvtColor(image_cropped, cv2.COLOR_BGR2RGB))\n",
    "#     plt.imshow(image_cropped)\n",
    "\n",
    "# Redimensionamento do rosto\n",
    "face = utils.resize_face(w, h, image_cropped)\n",
    "cv2.imwrite(FACE_FILEPATH, cv2.cvtColor(face, cv2.COLOR_BGR2RGB))\n",
    "plt.imshow(face)\n",
    "\n",
    "utils.print_done()"
   ]
  },
  {
   "cell_type": "markdown",
   "metadata": {},
   "source": [
    "IDENTIFICAÇÃO DOS OLHOS"
   ]
  },
  {
   "cell_type": "code",
   "execution_count": null,
   "metadata": {},
   "outputs": [],
   "source": [
    "print('Identificando os olhos...')\n",
    "true_eyes = roi.detect_eyes(face)\n",
    "\n",
    "face_copy = np.copy(face)\n",
    "for (ex, ey, ew, eh) in true_eyes:\n",
    "    cv2.ellipse(face_copy,(int(ex+0.5*ew), int(ey+0.5*eh)),(int(ew/2),int(eh/4)),0,0,360,(0, 255, 0),2)\n",
    "\n",
    "plt.imshow(face_copy)\n",
    "utils.print_done()"
   ]
  },
  {
   "cell_type": "markdown",
   "metadata": {},
   "source": [
    "CRIAÇÃO DA MÁSCARA PARA O ROSTO (máscara em branco: 0 = preto, 255 = branco)"
   ]
  },
  {
   "cell_type": "code",
   "execution_count": null,
   "metadata": {},
   "outputs": [],
   "source": [
    "print('Criando a máscara para o rosto...')\n",
    "face_rect_mask = mask.get_rect_mask(face)\n",
    "\n",
    "face_mask = mask.get_mask(face)\n",
    "mask.remove_eyes_from_mask(face_mask, true_eyes)\n",
    "mixed = ~face_rect_mask & face_mask\n",
    "\n",
    "mask.remove_eyes_from_mask(face_rect_mask, true_eyes)\n",
    "cv2.imwrite(MASK_FACE_FILEPATH, face_rect_mask)\n",
    "plt.imshow(face_rect_mask, cmap='gray')\n",
    "\n",
    "utils.print_done()"
   ]
  },
  {
   "cell_type": "markdown",
   "metadata": {},
   "source": [
    "VERIFICAÇÃO DA PORCENTAGEM DE DANO NO ROSTO"
   ]
  },
  {
   "cell_type": "code",
   "execution_count": null,
   "metadata": {},
   "outputs": [],
   "source": [
    "print('Verificando a porcentagem de dano no rosto...')\n",
    "\n",
    "threshold_dano = 0.05\n",
    "sem_dano = sum(sum(face_rect_mask == 0))\n",
    "\n",
    "porcentagem_dano = 1-sem_dano/utils.FACE_SIZE**2\n",
    "\n",
    "if porcentagem_dano > threshold_dano:\n",
    "    generative_inpaint = True\n",
    "else:\n",
    "    generative_inpaint = False\n",
    "\n",
    "print(str(round(porcentagem_dano, 2)*100) + '% de dano no rosto.')"
   ]
  },
  {
   "cell_type": "markdown",
   "metadata": {},
   "source": [
    "RESTAURAÇÃO DO ROSTO"
   ]
  },
  {
   "cell_type": "code",
   "execution_count": null,
   "metadata": {},
   "outputs": [],
   "source": [
    "if generative_inpaint:\n",
    "    print('Restaurando o rosto com Generative Inpaint...')\n",
    "    face_inpaint = test.run_inpaint(image = FACE_FILEPATH,\n",
    "                                     mask = MASK_FACE_FILEPATH,\n",
    "                                     output = INPAINT_FACE_FILEPATH,\n",
    "                                     checkpoint_dir = CHECKPOINT_DIR_PATH)\n",
    "    face_inpaint2 = cv2.inpaint(face, mixed, 3, cv2.INPAINT_TELEA)\n",
    "    face_inpaint[mixed==255] = face_inpaint2[mixed==255]\n",
    "else:\n",
    "    print('Restaurando o rosto com OpenCV Inpaint...')\n",
    "    face_inpaint = cv2.inpaint(face, face_mask, 3, cv2.INPAINT_TELEA)\n",
    "\n",
    "cv2.imwrite(INPAINT_FACE_FILEPATH, cv2.cvtColor(face_inpaint, cv2.COLOR_BGR2RGB))\n",
    "plt.imshow(face_inpaint)\n",
    "\n",
    "# Redimensionando o rosto restaurado para o tamanho original\n",
    "face_inpaint_redim = cv2.resize(face_inpaint, (w, h), interpolation = cv2.INTER_AREA)\n",
    "\n",
    "utils.print_done()"
   ]
  },
  {
   "cell_type": "markdown",
   "metadata": {},
   "source": [
    "RESTAURAÇÃO DA IMAGEM DE FUNDO"
   ]
  },
  {
   "cell_type": "code",
   "execution_count": null,
   "metadata": {},
   "outputs": [],
   "source": [
    "print('Restaurando o fundo da imagem...')\n",
    "image_mask = mask.get_mask(image)\n",
    "# cv2.imwrite(MASK_IMG_FILEPATH, image_mask)\n",
    "plt.imshow(image_mask, cmap='gray')"
   ]
  },
  {
   "cell_type": "code",
   "execution_count": null,
   "metadata": {},
   "outputs": [],
   "source": [
    "image_inpaint = cv2.inpaint(image, image_mask, 3, cv2.INPAINT_TELEA)\n",
    "# cv2.imwrite(INPAINT_OPENCV_FILEPATH, cv2.cvtColor(image_inpaint, cv2.COLOR_BGR2RGB))\n",
    "plt.imshow(image_inpaint, cmap='gray')\n",
    "\n",
    "utils.print_done()"
   ]
  },
  {
   "cell_type": "markdown",
   "metadata": {},
   "source": [
    "UNIÃO DO ROSTO COM A IMAGEM DE FUNDO"
   ]
  },
  {
   "cell_type": "code",
   "execution_count": null,
   "metadata": {},
   "outputs": [],
   "source": [
    "print('Reconstruindo a imagem completa...')\n",
    "\n",
    "image_final = np.copy(image_inpaint)\n",
    "image_final[y:y+h, x:x+w] = face_inpaint_redim\n",
    "\n",
    "cv2.imwrite(INPAINT_FINAL_FILEPATH, cv2.cvtColor(image_final, cv2.COLOR_BGR2RGB))\n",
    "plt.imshow(image_final)\n",
    "\n",
    "utils.print_done()"
   ]
  },
  {
   "cell_type": "code",
   "execution_count": null,
   "metadata": {},
   "outputs": [],
   "source": []
  }
 ],
 "metadata": {
  "kernelspec": {
   "display_name": "Python 3",
   "language": "python",
   "name": "python3"
  },
  "language_info": {
   "codemirror_mode": {
    "name": "ipython",
    "version": 3
   },
   "file_extension": ".py",
   "mimetype": "text/x-python",
   "name": "python",
   "nbconvert_exporter": "python",
   "pygments_lexer": "ipython3",
   "version": "3.6.5"
  }
 },
 "nbformat": 4,
 "nbformat_minor": 2
}
