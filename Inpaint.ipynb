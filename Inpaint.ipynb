{
 "cells": [
  {
   "cell_type": "code",
   "execution_count": null,
   "metadata": {},
   "outputs": [],
   "source": [
    "import os\n",
    "\n",
    "import numpy as np\n",
    "from matplotlib import pyplot as plt\n",
    "import cv2\n",
    "\n",
    "import test\n",
    "import mask\n",
    "import roi\n",
    "import utils\n",
    "\n",
    "import time"
   ]
  },
  {
   "cell_type": "code",
   "execution_count": null,
   "metadata": {},
   "outputs": [],
   "source": [
    "%%time\n",
    "# Imagem de entrada (sem extensão)\n",
    "img_name = '14'\n",
    "\n",
    "# Extensão da imagem de entrada\n",
    "img_extension = '.jpg'"
   ]
  },
  {
   "cell_type": "code",
   "execution_count": null,
   "metadata": {},
   "outputs": [],
   "source": [
    "%%time\n",
    "# Diretórios da imagem original, arquivos temp. e restauração final\n",
    "images_dir = './images/'\n",
    "interm_dir = './interm_files/'\n",
    "inpaint_dir = './inpaints/'\n",
    "\n",
    "checkpoint_dir = './model_logs/release_celeba_256/'\n",
    "\n",
    "# Verifica se existem os diretórios e cria os que não existem\n",
    "if not os.path.exists(interm_dir):\n",
    "    os.mkdir(interm_dir)\n",
    "if not os.path.exists(inpaint_dir):\n",
    "    os.mkdir(inpaint_dir)"
   ]
  },
  {
   "cell_type": "code",
   "execution_count": null,
   "metadata": {},
   "outputs": [],
   "source": [
    "%%time\n",
    "print('Validando a imagem de entrada...', end = '')\n",
    "image = utils.validate_input_image(images_dir + img_name + img_extension, img_extension)\n",
    "print('OK')\n",
    "\n",
    "plt.figure()\n",
    "plt.imshow(image)"
   ]
  },
  {
   "cell_type": "code",
   "execution_count": null,
   "metadata": {},
   "outputs": [],
   "source": [
    "%%time\n",
    "print('Identificando o rosto na imagem...', end = ' ')\n",
    "x, y, w, h = roi.identify_face(image)\n",
    "print('OK')\n",
    "\n",
    "# Exibe o rosto identificado\n",
    "image_copy = np.copy(image)\n",
    "cv2.rectangle(image_copy, (x,y), (x+w,y+h), (255,0,0), 10)\n",
    "plt.figure()\n",
    "plt.imshow(image_copy)\n",
    "\n",
    "# Corta a região do rosto\n",
    "image_cropped = image[y:y+h, x:x+w]\n",
    "\n",
    "# Salva a região do rosto em disco\n",
    "cv2.imwrite(interm_dir + img_name + '_cropped' + img_extension, cv2.cvtColor(image_cropped, cv2.COLOR_BGR2RGB))\n",
    "\n",
    "# Exibe o rosto salvo em disco\n",
    "plt.figure()\n",
    "plt.imshow(image_cropped)\n",
    "\n",
    "# Redimensiona o rosto\n",
    "face = utils.resize_face(w, h, image_cropped)\n",
    "\n",
    "# Salva o rosto redimensionado em disco\n",
    "cv2.imwrite(interm_dir + img_name + '_cropped_redim' + img_extension, cv2.cvtColor(face, cv2.COLOR_BGR2RGB))\n",
    "\n",
    "# Exibe o rosto redimensionado\n",
    "plt.figure()\n",
    "plt.imshow(face)"
   ]
  },
  {
   "cell_type": "code",
   "execution_count": null,
   "metadata": {},
   "outputs": [],
   "source": [
    "%%time\n",
    "print('Identificando os olhos...', end = ' ')\n",
    "true_eyes = roi.detect_eyes(face)\n",
    "print('OK')\n",
    "\n",
    "# Exibe os olhos identificados no rosto\n",
    "face_copy = np.copy(face)\n",
    "for (ex, ey, ew, eh) in true_eyes:\n",
    "    cv2.ellipse(face_copy,(int(ex+0.5*ew), int(ey+0.5*eh)),(int(ew/2),int(eh/4)),0,0,360,(0, 255, 0),2)\n",
    "plt.figure()\n",
    "plt.imshow(face_copy)"
   ]
  },
  {
   "cell_type": "code",
   "execution_count": null,
   "metadata": {},
   "outputs": [],
   "source": [
    "%%time\n",
    "print('Criando a máscara para o rosto...', end = ' ')\n",
    "\n",
    "face_rect_mask = mask.get_rect_mask(face)\n",
    "\n",
    "face_mask = mask.get_mask(face)\n",
    "mask.remove_eyes_from_mask(face_mask, true_eyes)\n",
    "\n",
    "mixed = ~face_rect_mask & face_mask\n",
    "\n",
    "mask.remove_eyes_from_mask(face_rect_mask, true_eyes)\n",
    "mask.remove_border_from_mask(face_rect_mask)\n",
    "\n",
    "print('OK')\n",
    "\n",
    "# Salva a máscara do rosto em disco\n",
    "cv2.imwrite(interm_dir + img_name + '_face_rect_mask' + img_extension, face_rect_mask)\n",
    "\n",
    "# Exibe a maścara retangularizada\n",
    "plt.figure()\n",
    "plt.imshow(face_rect_mask, cmap='gray')\n",
    "\n",
    "# Salva a máscara do rosto em disco\n",
    "cv2.imwrite(interm_dir + img_name + '_face_mixed_mask' + img_extension, mixed)\n",
    "\n",
    "# Exibe a maścara mixed\n",
    "plt.figure()\n",
    "plt.imshow(mixed, cmap='gray')"
   ]
  },
  {
   "cell_type": "code",
   "execution_count": null,
   "metadata": {},
   "outputs": [],
   "source": [
    "%%time\n",
    "print('Verificando a porcentagem de dano no rosto...', end = ' ')\n",
    "sem_dano = sum(sum(face_rect_mask == 0))\n",
    "porcentagem_dano = 1-sem_dano/utils.FACE_SIZE**2\n",
    "print(str(round(porcentagem_dano, 2)*100) + '% de dano no rosto.')"
   ]
  },
  {
   "cell_type": "code",
   "execution_count": null,
   "metadata": {},
   "outputs": [],
   "source": [
    "%%time\n",
    "print('Restaurando o rosto com Generative Inpaint with Contextual Attention...', end = ' ')\n",
    "plt.figure()\n",
    "plt.imshow(face)\n",
    "\n",
    "plt.figure()\n",
    "plt.imshow(face_rect_mask, cmap='gray')\n",
    "\n",
    "face_inpaint = test.run_inpaint(image = interm_dir + img_name + '_cropped_redim' + img_extension,\n",
    "                                 mask = interm_dir + img_name + '_face_rect_mask' + img_extension,\n",
    "                                 output = interm_dir + img_name + '_face_rect_generative' + img_extension,\n",
    "                                 checkpoint_dir = checkpoint_dir)\n",
    "print('OK')\n",
    "\n",
    "# Salvando a restauração obtida em disco\n",
    "cv2.imwrite(interm_dir + img_name + '_face_rect_generative' + img_extension, cv2.cvtColor(face_inpaint, cv2.COLOR_BGR2RGB))\n",
    "\n",
    "# Exibe a restauração obtida\n",
    "plt.figure()\n",
    "plt.imshow(face_inpaint)"
   ]
  },
  {
   "cell_type": "code",
   "execution_count": null,
   "metadata": {},
   "outputs": [],
   "source": [
    "%%time\n",
    "print('Restaurando o rosto com OpenCV...', end = ' ')\n",
    "face_inpaint2 = cv2.inpaint(face, mixed, 3, cv2.INPAINT_TELEA)\n",
    "print('OK')\n",
    "\n",
    "# Salvando a restauração obtida em disco\n",
    "cv2.imwrite(interm_dir + img_name + '_face_mixed_opencv' + img_extension, cv2.cvtColor(face_inpaint2, cv2.COLOR_BGR2RGB))\n",
    "\n",
    "# Exibe a restauração obtida\n",
    "plt.figure()\n",
    "plt.imshow(face_inpaint2)"
   ]
  },
  {
   "cell_type": "code",
   "execution_count": null,
   "metadata": {},
   "outputs": [],
   "source": [
    "%%time\n",
    "print('Combiando as restaurações do rosto...', end = ' ')\n",
    "\n",
    "face_inpaint[mixed==255] = face_inpaint2[mixed==255]\n",
    "\n",
    "print('OK')\n",
    "\n",
    "print('Restauração de detalhes finais...', end = ' ')\n",
    "face_ridge_mask = mask.get_ridge_mask(face_inpaint)\n",
    "mask.remove_eyes_from_mask(face_ridge_mask, true_eyes)\n",
    "mask.remove_border_from_mask(face_ridge_mask)\n",
    "face_inpaint = cv2.inpaint(face_inpaint, face_ridge_mask, 3, cv2.INPAINT_TELEA)\n",
    "\n",
    "print('OK')\n",
    "# Salvando a restauração obtida em disco\n",
    "cv2.imwrite(interm_dir + img_name + '_face_inpainting' + img_extension, cv2.cvtColor(face_inpaint, cv2.COLOR_BGR2RGB))\n",
    "\n",
    "# Exibe a restauração obtida\n",
    "plt.figure()\n",
    "plt.imshow(face_inpaint)\n",
    "\n",
    "\n",
    "\n",
    "# Redimensiona o rosto restaurado para o tamanho original\n",
    "face_inpaint_redim = cv2.resize(face_inpaint, (w, h))\n",
    "face_mask_total = face_mask | face_rect_mask | face_ridge_mask\n",
    "\n",
    "face_mask_total = cv2.resize(face_mask_total, (w, h))\n"
   ]
  },
  {
   "cell_type": "code",
   "execution_count": null,
   "metadata": {},
   "outputs": [],
   "source": [
    "%%time\n",
    "print('Criando a máscara do fundo da imagem...', end = ' ')\n",
    "\n",
    "image_mask = mask.get_mask(image)\n",
    "mask.remove_face_from_mask(image_mask, x, y, w, h)\n",
    "\n",
    "print('OK')\n",
    "\n",
    "# Salva a máscara da imagem em disco\n",
    "cv2.imwrite(interm_dir + img_name + '_image_mask' + img_extension, image_mask)\n",
    "\n",
    "# Exibe a maścara do fundo da imagem\n",
    "plt.figure()\n",
    "plt.imshow(image_mask, cmap='gray')"
   ]
  },
  {
   "cell_type": "code",
   "execution_count": null,
   "metadata": {},
   "outputs": [],
   "source": [
    "%%time\n",
    "print('Restaurando o fundo da imagem...', end = ' ')\n",
    "\n",
    "image_inpaint = cv2.inpaint(image, image_mask, 3, cv2.INPAINT_NS)\n",
    "ridge_mask = mask.get_ridge_mask(image_inpaint)\n",
    "mask.remove_face_from_mask(ridge_mask, x, y, w, h)\n",
    "image_inpaint = cv2.inpaint(image_inpaint, ridge_mask, 3, cv2.INPAINT_NS)\n",
    "\n",
    "print('OK')\n",
    "\n",
    "# Salva a restauração do fundo da imagem em disco\n",
    "cv2.imwrite(interm_dir + img_name + '_image_inpainting' + img_extension, cv2.cvtColor(image_inpaint, cv2.COLOR_BGR2RGB))\n",
    "\n",
    "# Exibe a imagem com o fundo restaurado\n",
    "plt.figure()\n",
    "plt.imshow(image_inpaint)"
   ]
  },
  {
   "cell_type": "code",
   "execution_count": null,
   "metadata": {},
   "outputs": [],
   "source": [
    "%%time\n",
    "print('Reconstruindo a imagem completa...', end = ' ')\n",
    "image_final = np.copy(image_inpaint)\n",
    "image_final[y:y+h, x:x+w][face_mask_total > 0] = face_inpaint_redim[face_mask_total > 0]\n",
    "print('OK')\n",
    "\n",
    "# Salva a restauração da imagem em disco\n",
    "cv2.imwrite(inpaint_dir + img_name + '_inpainting' + img_extension, cv2.cvtColor(image_final, cv2.COLOR_BGR2RGB))\n",
    "\n",
    "# Exibe a imagem restaurada\n",
    "plt.figure()\n",
    "plt.imshow(image_final)"
   ]
  },
  {
   "cell_type": "code",
   "execution_count": null,
   "metadata": {},
   "outputs": [],
   "source": []
  }
 ],
 "metadata": {
  "kernelspec": {
   "display_name": "Python 3",
   "language": "python",
   "name": "python3"
  },
  "language_info": {
   "codemirror_mode": {
    "name": "ipython",
    "version": 3
   },
   "file_extension": ".py",
   "mimetype": "text/x-python",
   "name": "python",
   "nbconvert_exporter": "python",
   "pygments_lexer": "ipython3",
   "version": "3.6.6"
  }
 },
 "nbformat": 4,
 "nbformat_minor": 2
}
