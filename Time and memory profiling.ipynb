{
 "cells": [
  {
   "cell_type": "code",
   "execution_count": 1,
   "metadata": {},
   "outputs": [
    {
     "name": "stderr",
     "output_type": "stream",
     "text": [
      "/home/izabel/anaconda3/lib/python3.6/site-packages/h5py/__init__.py:36: FutureWarning: Conversion of the second argument of issubdtype from `float` to `np.floating` is deprecated. In future, it will be treated as `np.float64 == np.dtype(float).type`.\n",
      "  from ._conv import register_converters as _register_converters\n",
      "\u001b[32m[2018-11-11 21:38:23 @__init__.py:79]\u001b[0m Set root logger. Unset logger with neuralgym.unset_logger().\n",
      "\u001b[32m[2018-11-11 21:38:23 @__init__.py:80]\u001b[0m Saving logging to file: neuralgym_logs/20181111213823513500.\n"
     ]
    }
   ],
   "source": [
    "import time\n",
    "import memory_profiler as mem_profile\n",
    "\n",
    "import os\n",
    "\n",
    "import numpy as np\n",
    "from matplotlib import pyplot as plt\n",
    "import cv2\n",
    "\n",
    "import test\n",
    "import mask\n",
    "import roi\n",
    "import utils\n",
    "\n",
    "FULL_IMG_NAME = 'img_0_original.jpg'\n",
    "\n",
    "# Diretórios da imagem original, arquivos temp. e restauração final\n",
    "IMG_DIR_PATH = './images/'\n",
    "INTERM_DIR_PATH = './interm_files/'\n",
    "INPAINT_DIR_PATH = './inpaints/'\n",
    "\n",
    "# Verifica se existem os diretórios e cria os que não existem\n",
    "if not os.path.exists(INTERM_DIR_PATH):\n",
    "    os.mkdir(INTERM_DIR_PATH)\n",
    "if not os.path.exists(INPAINT_DIR_PATH):\n",
    "    os.mkdir(INPAINT_DIR_PATH)\n",
    "\n",
    "# Define os caminhos para as imagens\n",
    "IMG_EXTENSION = FULL_IMG_NAME[-4:]\n",
    "IMG_NAME = FULL_IMG_NAME[:-4]\n",
    "IMG_FILEPATH = IMG_DIR_PATH + FULL_IMG_NAME\n",
    "CROP_FILEPATH = INTERM_DIR_PATH + IMG_NAME + '_crop' + IMG_EXTENSION\n",
    "FACE_FILEPATH = INTERM_DIR_PATH + IMG_NAME + '_face' + IMG_EXTENSION\n",
    "MASK_FACE_FILEPATH = INTERM_DIR_PATH + IMG_NAME + '_face_mask' + IMG_EXTENSION\n",
    "MASK_IMG_FILEPATH = INTERM_DIR_PATH + IMG_NAME + '_img_mask' + IMG_EXTENSION\n",
    "INPAINT_FACE_FILEPATH = INTERM_DIR_PATH + IMG_NAME + '_face_inpaint' + IMG_EXTENSION\n",
    "INPAINT_FINAL_FILEPATH = INPAINT_DIR_PATH + IMG_NAME + '_inpaint' + IMG_EXTENSION\n",
    "CHECKPOINT_DIR_PATH = './model_logs/release_celeba_256/'\n",
    "\n",
    "def val_img(IMG_FILEPATH, IMG_EXTENSION):\n",
    "    print('Validando a imagem de entrada...')\n",
    "    image = utils.validate_input_image(IMG_FILEPATH, IMG_EXTENSION)\n",
    "    print(image.shape)\n",
    "    utils.print_done()\n",
    "    # plt.imshow(image)\n",
    "    return image\n",
    "\n",
    "def identify_img(image):\n",
    "    print('Identificando o rosto na imagem...')\n",
    "    try:\n",
    "        # Identificação do rosto\n",
    "        x, y, w, h = roi.identify_face(image)[0]\n",
    "    except:\n",
    "        x = 0\n",
    "        y = 0\n",
    "        h, w, p = image.shape\n",
    "\n",
    "        if w != h:\n",
    "            min_size = min(w,h)\n",
    "            if w == min_size:\n",
    "                y = int(y + (h-w)/2)\n",
    "                h = w\n",
    "            elif h == min_size:\n",
    "                x = int(x + (w-h)/2)\n",
    "                w = h\n",
    "    # image_copy = np.copy(image)\n",
    "    # cv2.rectangle(image_copy, (x,y), (x+w,y+h), (255,0,0), 10)\n",
    "    # plt.imshow(image_copy)\n",
    "    # Corte do rosto\n",
    "    image_cropped = image[y:y+h, x:x+w]\n",
    "    #     cv2.imwrite(CROP_FILEPATH, cv2.cvtColor(image_cropped, cv2.COLOR_BGR2RGB))\n",
    "    #     plt.imshow(image_cropped)\n",
    "    # Redimensionamento do rosto\n",
    "    face = utils.resize_face(w, h, image_cropped)\n",
    "    cv2.imwrite(FACE_FILEPATH, cv2.cvtColor(face, cv2.COLOR_BGR2RGB))\n",
    "    # plt.imshow(face)\n",
    "    utils.print_done()\n",
    "    return face, x, y, w, h\n",
    "\n",
    "def identify_eyes(face):\n",
    "    print('Identificando os olhos...')\n",
    "    true_eyes = roi.detect_eyes(face)\n",
    "    # face_copy = np.copy(face)\n",
    "    # for (ex, ey, ew, eh) in true_eyes:\n",
    "    #     cv2.ellipse(face_copy,(int(ex+0.5*ew), int(ey+0.5*eh)),(int(ew/2),int(eh/4)),0,0,360,(0, 255, 0),2)\n",
    "    # plt.imshow(face_copy)\n",
    "    utils.print_done()\n",
    "    return true_eyes\n",
    "\n",
    "def create_face_mask(face, true_eyes):\n",
    "    print('Criando a máscara para o rosto...')\n",
    "    face_rect_mask = mask.get_rect_mask(face)\n",
    "    face_mask = mask.get_mask(face)\n",
    "    mask.remove_eyes_from_mask(face_mask, true_eyes)\n",
    "    mixed = ~face_rect_mask & face_mask\n",
    "    mask.remove_eyes_from_mask(face_rect_mask, true_eyes)\n",
    "    mask.remove_border_from_mask(face_rect_mask)\n",
    "    cv2.imwrite(MASK_FACE_FILEPATH, face_rect_mask)\n",
    "    # plt.imshow(face_rect_mask, cmap='gray')\n",
    "    utils.print_done()\n",
    "    return face_rect_mask, mixed\n",
    "\n",
    "def rest_generative(FACE_FILEPATH, MASK_FACE_FILEPATH, INPAINT_FACE_FILEPATH, \n",
    "                    CHECKPOINT_DIR_PATH, face, mixed, w, h):\n",
    "    print('Restaurando o rosto com Generative Inpaint...')\n",
    "    face_inpaint = test.run_inpaint(image = FACE_FILEPATH,\n",
    "                                     mask = MASK_FACE_FILEPATH,\n",
    "                                     output = INPAINT_FACE_FILEPATH,\n",
    "                                     checkpoint_dir = CHECKPOINT_DIR_PATH)\n",
    "    face_inpaint2 = cv2.inpaint(face, mixed, 3, cv2.INPAINT_TELEA)\n",
    "    face_inpaint[mixed==255] = face_inpaint2[mixed==255]\n",
    "    # cv2.imwrite(INPAINT_FACE_FILEPATH, cv2.cvtColor(face_inpaint, cv2.COLOR_BGR2RGB))\n",
    "    # plt.imshow(face_inpaint)\n",
    "    # Redimensionando o rosto restaurado para o tamanho original\n",
    "    face_inpaint_redim = cv2.resize(face_inpaint, (w, h), interpolation = cv2.INTER_AREA)\n",
    "    utils.print_done()\n",
    "    return face_inpaint_redim\n",
    "    \n",
    "def rest_opencv(image):\n",
    "    print('Restaurando o fundo da imagem...')\n",
    "    image_mask = mask.get_mask(image)\n",
    "    # cv2.imwrite(MASK_IMG_FILEPATH, image_mask)\n",
    "    # plt.imshow(image_mask, cmap='gray')\n",
    "    mask.remove_face_from_mask(image_mask, x, y, w, h)\n",
    "    image_inpaint = cv2.inpaint(image, image_mask, 3, cv2.INPAINT_TELEA)\n",
    "    # cv2.imwrite(INPAINT_OPENCV_FILEPATH, cv2.cvtColor(image_inpaint, cv2.COLOR_BGR2RGB))\n",
    "    # plt.imshow(image_inpaint, cmap='gray')\n",
    "    utils.print_done()\n",
    "    return image_inpaint\n",
    "\n",
    "def rest_union(image_inpaint, face_inpaint_redim, x, y):\n",
    "    print('Reconstruindo a imagem completa...')\n",
    "    image_final = np.copy(image_inpaint)\n",
    "    image_final[y:y+h, x:x+w] = face_inpaint_redim\n",
    "    cv2.imwrite(INPAINT_FINAL_FILEPATH, cv2.cvtColor(image_final, cv2.COLOR_BGR2RGB))\n",
    "    # plt.imshow(image_final)\n",
    "    utils.print_done()\n",
    "    return image_final"
   ]
  },
  {
   "cell_type": "code",
   "execution_count": 2,
   "metadata": {},
   "outputs": [],
   "source": [
    "def print_time_and_memory(t1, t2):\n",
    "    print ('Tempo gasto: ' + str(round(t2-t1, 2)) + ' seg')\n",
    "    print('Memória utilizada: ' + str(mem_profile.memory_usage()) + ' Mb')"
   ]
  },
  {
   "cell_type": "code",
   "execution_count": 3,
   "metadata": {},
   "outputs": [
    {
     "name": "stdout",
     "output_type": "stream",
     "text": [
      "Validando a imagem de entrada...\n",
      "(648, 449, 3)\n",
      "Pronto.\n",
      "Tempo gasto: 0.01 seg\n",
      "Memória utilizada: [301.12890625] Mb\n"
     ]
    }
   ],
   "source": [
    "t1 = time.clock()\n",
    "ti = t1\n",
    "\n",
    "image = val_img(IMG_FILEPATH, IMG_EXTENSION)\n",
    "\n",
    "t2 = time.clock()\n",
    "\n",
    "print_time_and_memory(t1, t2)"
   ]
  },
  {
   "cell_type": "code",
   "execution_count": 4,
   "metadata": {},
   "outputs": [
    {
     "name": "stdout",
     "output_type": "stream",
     "text": [
      "Identificando o rosto na imagem...\n",
      "Pronto.\n",
      "Tempo gasto: 1.06 seg\n",
      "Memória utilizada: [333.359375] Mb\n"
     ]
    }
   ],
   "source": [
    "t1 = time.clock()\n",
    "\n",
    "face, x, y, w, h = identify_img(image)\n",
    "\n",
    "t2 = time.clock()\n",
    "\n",
    "print_time_and_memory(t1, t2)"
   ]
  },
  {
   "cell_type": "code",
   "execution_count": 5,
   "metadata": {},
   "outputs": [
    {
     "name": "stdout",
     "output_type": "stream",
     "text": [
      "Identificando os olhos...\n",
      "Pronto.\n",
      "Tempo gasto: 0.26 seg\n",
      "Memória utilizada: [337.328125] Mb\n"
     ]
    }
   ],
   "source": [
    "t1 = time.clock()\n",
    "\n",
    "true_eyes = identify_eyes(face)\n",
    "\n",
    "t2 = time.clock()\n",
    "\n",
    "print_time_and_memory(t1, t2)"
   ]
  },
  {
   "cell_type": "code",
   "execution_count": 6,
   "metadata": {},
   "outputs": [
    {
     "name": "stdout",
     "output_type": "stream",
     "text": [
      "Criando a máscara para o rosto...\n",
      "Pronto.\n",
      "Tempo gasto: 0.08 seg\n",
      "Memória utilizada: [338.55859375] Mb\n"
     ]
    }
   ],
   "source": [
    "t1 = time.clock()\n",
    "\n",
    "face_rect_mask, mixed = create_face_mask(face, true_eyes)\n",
    "\n",
    "t2 = time.clock()\n",
    "\n",
    "print_time_and_memory(t1, t2)"
   ]
  },
  {
   "cell_type": "code",
   "execution_count": 7,
   "metadata": {},
   "outputs": [
    {
     "name": "stdout",
     "output_type": "stream",
     "text": [
      "Restaurando o rosto com Generative Inpaint...\n",
      "Pronto.\n",
      "Tempo gasto: 6.18 seg\n",
      "Memória utilizada: [472.90234375] Mb\n"
     ]
    }
   ],
   "source": [
    "t1 = time.clock()\n",
    "\n",
    "face_inpaint_redim = rest_generative(FACE_FILEPATH, MASK_FACE_FILEPATH, INPAINT_FACE_FILEPATH, \n",
    "                                     CHECKPOINT_DIR_PATH, face, mixed, w, h)\n",
    "\n",
    "t2 = time.clock()\n",
    "\n",
    "print_time_and_memory(t1, t2)"
   ]
  },
  {
   "cell_type": "code",
   "execution_count": 8,
   "metadata": {},
   "outputs": [
    {
     "name": "stdout",
     "output_type": "stream",
     "text": [
      "Restaurando o fundo da imagem...\n",
      "Pronto.\n",
      "Tempo gasto: 0.31 seg\n",
      "Memória utilizada: [473.54296875] Mb\n"
     ]
    }
   ],
   "source": [
    "t1 = time.clock()\n",
    "\n",
    "image_inpaint = rest_opencv(image)\n",
    "\n",
    "t2 = time.clock()\n",
    "\n",
    "print_time_and_memory(t1, t2)"
   ]
  },
  {
   "cell_type": "code",
   "execution_count": 9,
   "metadata": {},
   "outputs": [
    {
     "name": "stdout",
     "output_type": "stream",
     "text": [
      "Reconstruindo a imagem completa...\n",
      "Pronto.\n",
      "Tempo gasto: 0.03 seg\n",
      "Memória utilizada: [473.54296875] Mb\n"
     ]
    }
   ],
   "source": [
    "t1 = time.clock()\n",
    "\n",
    "image_final = rest_union(image_inpaint, face_inpaint_redim, x, y)\n",
    "\n",
    "t2 = time.clock()\n",
    "tf = t2\n",
    "\n",
    "print_time_and_memory(t1, t2)"
   ]
  },
  {
   "cell_type": "code",
   "execution_count": 10,
   "metadata": {},
   "outputs": [
    {
     "name": "stdout",
     "output_type": "stream",
     "text": [
      "Tempo gasto: 8.05 seg\n",
      "Memória utilizada: [473.54296875] Mb\n"
     ]
    }
   ],
   "source": [
    "# Métricas da execução completa\n",
    "print_time_and_memory(ti, tf)"
   ]
  }
 ],
 "metadata": {
  "kernelspec": {
   "display_name": "Python 3",
   "language": "python",
   "name": "python3"
  },
  "language_info": {
   "codemirror_mode": {
    "name": "ipython",
    "version": 3
   },
   "file_extension": ".py",
   "mimetype": "text/x-python",
   "name": "python",
   "nbconvert_exporter": "python",
   "pygments_lexer": "ipython3",
   "version": "3.6.5"
  }
 },
 "nbformat": 4,
 "nbformat_minor": 2
}
